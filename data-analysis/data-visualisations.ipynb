{
 "cells": [
  {
   "cell_type": "markdown",
   "metadata": {},
   "source": [
    "### Setting up of DB"
   ]
  },
  {
   "cell_type": "code",
   "execution_count": 1,
   "metadata": {},
   "outputs": [],
   "source": [
    "import sqlite3\n",
    "import pandas as pd\n",
    "import matplotlib.pyplot as plt\n",
    "import numpy as np"
   ]
  },
  {
   "cell_type": "code",
   "execution_count": 6,
   "metadata": {},
   "outputs": [
    {
     "name": "stdout",
     "output_type": "stream",
     "text": [
      "Tables in the database:\n",
      "            name\n",
      "0        domains\n",
      "1          sites\n",
      "2      questions\n",
      "3  site_category\n"
     ]
    }
   ],
   "source": [
    "db_path = \"../site_info_2025-01-08.db\"\n",
    "conn = sqlite3.connect(db_path)\n",
    "\n",
    "# Query all tables\n",
    "query = \"SELECT name FROM sqlite_master WHERE type='table';\"\n",
    "tables = pd.read_sql(query, conn)\n",
    "\n",
    "print(\"Tables in the database:\")\n",
    "print(tables) # domains, sites, questions, site_category"
   ]
  },
  {
   "cell_type": "markdown",
   "metadata": {},
   "source": [
    "##### Querying each table"
   ]
  },
  {
   "cell_type": "code",
   "execution_count": 12,
   "metadata": {},
   "outputs": [
    {
     "name": "stdout",
     "output_type": "stream",
     "text": [
      "   id           created_at                                              url  \\\n",
      "0   1  2025-01-01 23:15:50                     https://www.comp.nus.edu.sg/   \n",
      "1   2  2025-01-01 23:15:52  https://www.comp.nus.edu.sg/about/deansmessage/   \n",
      "2   3  2025-01-01 23:15:52               https://www.comp.nus.edu.sg/about/   \n",
      "3   4  2025-01-01 23:15:53   https://www.comp.nus.edu.sg/about/our-history/   \n",
      "4   5  2025-01-01 23:15:53        https://www.comp.nus.edu.sg/about/awards/   \n",
      "\n",
      "                                        loaded_url     site  from_site_id  \\\n",
      "0                     https://www.comp.nus.edu.sg/  nus-soc           NaN   \n",
      "1  https://www.comp.nus.edu.sg/about/deansmessage/  nus-soc           1.0   \n",
      "2               https://www.comp.nus.edu.sg/about/  nus-soc           1.0   \n",
      "3   https://www.comp.nus.edu.sg/about/our-history/  nus-soc           1.0   \n",
      "4        https://www.comp.nus.edu.sg/about/awards/  nus-soc           1.0   \n",
      "\n",
      "   depth  num_links  num_imgs                            title text_content  \n",
      "0      0        422        15             Home - NUS Computing         None  \n",
      "1      1        322         3   Dean's Message - NUS Computing         None  \n",
      "2      1        324         9            About - NUS Computing         None  \n",
      "3      1        326        19      Our History - NUS Computing         None  \n",
      "4      1        338         3  Teaching Awards - NUS Computing         None  \n"
     ]
    }
   ],
   "source": [
    "table_name = \"sites\"\n",
    "query = f\"SELECT * FROM {table_name} LIMIT 5;\"\n",
    "\n",
    "data = pd.read_sql(query, conn)\n",
    "print(data)"
   ]
  }
 ],
 "metadata": {
  "kernelspec": {
   "display_name": ".venv",
   "language": "python",
   "name": "python3"
  },
  "language_info": {
   "codemirror_mode": {
    "name": "ipython",
    "version": 3
   },
   "file_extension": ".py",
   "mimetype": "text/x-python",
   "name": "python",
   "nbconvert_exporter": "python",
   "pygments_lexer": "ipython3",
   "version": "3.11.4"
  }
 },
 "nbformat": 4,
 "nbformat_minor": 2
}
