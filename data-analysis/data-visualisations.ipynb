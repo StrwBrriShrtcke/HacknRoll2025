{
 "cells": [
  {
   "cell_type": "markdown",
   "metadata": {},
   "source": [
    "### EDA on database of school websites"
   ]
  },
  {
   "cell_type": "code",
   "execution_count": 1,
   "metadata": {},
   "outputs": [],
   "source": [
    "import sqlite3\n",
    "import pandas as pd\n",
    "import matplotlib.pyplot as plt\n",
    "import numpy as np"
   ]
  },
  {
   "cell_type": "code",
   "execution_count": 6,
   "metadata": {},
   "outputs": [
    {
     "name": "stdout",
     "output_type": "stream",
     "text": [
      "Tables in the database:\n",
      "            name\n",
      "0        domains\n",
      "1          sites\n",
      "2      questions\n",
      "3  site_category\n"
     ]
    }
   ],
   "source": [
    "db_path = \"../site_info_2025-01-08.db\"\n",
    "conn = sqlite3.connect(db_path)\n",
    "\n",
    "# Query all tables\n",
    "query = \"SELECT name FROM sqlite_master WHERE type='table';\"\n",
    "tables = pd.read_sql(query, conn)\n",
    "\n",
    "print(\"Tables in the database:\")\n",
    "print(tables) # domains, sites, questions, site_category"
   ]
  },
  {
   "cell_type": "markdown",
   "metadata": {},
   "source": [
    "Querying each table"
   ]
  },
  {
   "cell_type": "code",
   "execution_count": 12,
   "metadata": {},
   "outputs": [
    {
     "name": "stdout",
     "output_type": "stream",
     "text": [
      "   id           created_at                                              url  \\\n",
      "0   1  2025-01-01 23:15:50                     https://www.comp.nus.edu.sg/   \n",
      "1   2  2025-01-01 23:15:52  https://www.comp.nus.edu.sg/about/deansmessage/   \n",
      "2   3  2025-01-01 23:15:52               https://www.comp.nus.edu.sg/about/   \n",
      "3   4  2025-01-01 23:15:53   https://www.comp.nus.edu.sg/about/our-history/   \n",
      "4   5  2025-01-01 23:15:53        https://www.comp.nus.edu.sg/about/awards/   \n",
      "\n",
      "                                        loaded_url     site  from_site_id  \\\n",
      "0                     https://www.comp.nus.edu.sg/  nus-soc           NaN   \n",
      "1  https://www.comp.nus.edu.sg/about/deansmessage/  nus-soc           1.0   \n",
      "2               https://www.comp.nus.edu.sg/about/  nus-soc           1.0   \n",
      "3   https://www.comp.nus.edu.sg/about/our-history/  nus-soc           1.0   \n",
      "4        https://www.comp.nus.edu.sg/about/awards/  nus-soc           1.0   \n",
      "\n",
      "   depth  num_links  num_imgs                            title text_content  \n",
      "0      0        422        15             Home - NUS Computing         None  \n",
      "1      1        322         3   Dean's Message - NUS Computing         None  \n",
      "2      1        324         9            About - NUS Computing         None  \n",
      "3      1        326        19      Our History - NUS Computing         None  \n",
      "4      1        338         3  Teaching Awards - NUS Computing         None  \n"
     ]
    }
   ],
   "source": [
    "table_name = \"sites\"\n",
    "query = f\"SELECT * FROM {table_name} LIMIT 5;\"\n",
    "\n",
    "data = pd.read_sql(query, conn)\n",
    "print(data)"
   ]
  },
  {
   "cell_type": "markdown",
   "metadata": {},
   "source": [
    "Merging sites table and site_category table"
   ]
  },
  {
   "cell_type": "code",
   "execution_count": 14,
   "metadata": {},
   "outputs": [
    {
     "name": "stdout",
     "output_type": "stream",
     "text": [
      "   site_id site_name                           category  \\\n",
      "0        1   nus-soc               About the university   \n",
      "1        2   nus-soc               About the university   \n",
      "2        3   nus-soc               About the university   \n",
      "3        4   nus-soc               About the university   \n",
      "4        5   nus-soc  Teaching and administrative roles   \n",
      "\n",
      "                                               url  \\\n",
      "0                     https://www.comp.nus.edu.sg/   \n",
      "1  https://www.comp.nus.edu.sg/about/deansmessage/   \n",
      "2               https://www.comp.nus.edu.sg/about/   \n",
      "3   https://www.comp.nus.edu.sg/about/our-history/   \n",
      "4        https://www.comp.nus.edu.sg/about/awards/   \n",
      "\n",
      "                                        loaded_url  from_site_id  depth  \\\n",
      "0                     https://www.comp.nus.edu.sg/           NaN      0   \n",
      "1  https://www.comp.nus.edu.sg/about/deansmessage/           1.0      1   \n",
      "2               https://www.comp.nus.edu.sg/about/           1.0      1   \n",
      "3   https://www.comp.nus.edu.sg/about/our-history/           1.0      1   \n",
      "4        https://www.comp.nus.edu.sg/about/awards/           1.0      1   \n",
      "\n",
      "   num_links  num_imgs                            title text_content  \n",
      "0        422        15             Home - NUS Computing         None  \n",
      "1        322         3   Dean's Message - NUS Computing         None  \n",
      "2        324         9            About - NUS Computing         None  \n",
      "3        326        19      Our History - NUS Computing         None  \n",
      "4        338         3  Teaching Awards - NUS Computing         None  \n"
     ]
    }
   ],
   "source": [
    "query = \"\"\"\n",
    "    SELECT \n",
    "        sites.id AS site_id, \n",
    "        sites.site AS site_name, \n",
    "        site_category.category,\n",
    "        sites.url AS url,\n",
    "        sites.loaded_url AS loaded_url,\n",
    "        sites.from_site_id AS from_site_id,\n",
    "        sites.depth AS depth,\n",
    "        sites.num_links AS num_links,\n",
    "        sites.num_imgs AS num_imgs,\n",
    "        sites.title AS title,\n",
    "        sites.text_content AS text_content\n",
    "    FROM \n",
    "        sites\n",
    "    INNER JOIN \n",
    "        site_category\n",
    "    ON \n",
    "        sites.id = site_category.id;\n",
    "    \"\"\"\n",
    "    \n",
    "merged_df = pd.read_sql(query, conn)\n",
    "print(merged_df.head())"
   ]
  },
  {
   "cell_type": "markdown",
   "metadata": {},
   "source": [
    "Creating dataframes for each university"
   ]
  },
  {
   "cell_type": "code",
   "execution_count": 15,
   "metadata": {},
   "outputs": [],
   "source": [
    "nus_df = merged_df[merged_df['site_name'] == 'nus']\n",
    "soc_df = merged_df[merged_df['site_name'] == 'nus-soc']\n",
    "ntu_df = merged_df[merged_df['site_name'] == 'ntu']\n",
    "sutd_df = merged_df[merged_df['site_name'] == 'sutd']\n",
    "sim_df = merged_df[merged_df['site_name'] == 'sim']\n",
    "sit_df = merged_df[merged_df['site_name'] == 'sit']\n",
    "cmu_df = merged_df[merged_df['site_name'] == 'cmu']\n",
    "mit_df = merged_df[merged_df['site_name'] == 'mit']\n",
    "berkeley_df = merged_df[merged_df['site_name'] == 'berkeley']"
   ]
  },
  {
   "cell_type": "code",
   "execution_count": 16,
   "metadata": {},
   "outputs": [],
   "source": [
    "# defining constants\n",
    "university_df = [nus_df, soc_df, ntu_df, sutd_df, sim_df, sit_df, cmu_df, mit_df, berkeley_df]\n",
    "university_names = ['nus', 'soc', 'ntu', 'sutd', 'sim', 'sit', 'cmu', 'mit', 'berkeley']"
   ]
  },
  {
   "cell_type": "markdown",
   "metadata": {},
   "source": [
    "Total number of pages"
   ]
  },
  {
   "cell_type": "code",
   "execution_count": 19,
   "metadata": {},
   "outputs": [
    {
     "name": "stdout",
     "output_type": "stream",
     "text": [
      "{'nus': 1072, 'cmu': 734, 'sit': 699, 'soc': 681, 'sim': 563, 'ntu': 522, 'berkeley': 284, 'sutd': 233, 'mit': 38}\n"
     ]
    }
   ],
   "source": [
    "total_pages_dict = {} # dictionary to store page count\n",
    "\n",
    "for i in range(9):\n",
    "    count = university_df[i].shape[0]\n",
    "    total_pages_dict[university_names[i]] = count\n",
    "\n",
    "sorted_total_pages_dict = dict(sorted(total_pages_dict.items(), key=lambda item: item[1], reverse=True)) # sort\n",
    "print(sorted_total_pages_dict)"
   ]
  },
  {
   "cell_type": "code",
   "execution_count": 20,
   "metadata": {},
   "outputs": [
    {
     "data": {
      "image/png": "[encoded data removed]",
      "text/plain": [
       "<Figure size 640x480 with 1 Axes>"
      ]
     },
     "metadata": {},
     "output_type": "display_data"
    }
   ],
   "source": [
    "plt.bar(sorted_total_pages_dict.keys(), sorted_total_pages_dict.values())\n",
    "plt.title('Number of pages scraped across universities (depth of two)')\n",
    "for i in range(len(university_df)):\n",
    "    plt.text(i, list(sorted_total_pages_dict.values())[i] + 10, list(sorted_total_pages_dict.values())[i], ha = 'center')\n",
    "plt.xlabel('Universities')\n",
    "plt.ylabel('Count')\n",
    "plt.show()"
   ]
  },
  {
   "cell_type": "markdown",
   "metadata": {},
   "source": [
    "Comparison of categories across universities"
   ]
  },
  {
   "cell_type": "code",
   "execution_count": null,
   "metadata": {},
   "outputs": [],
   "source": [
    "for i in range(9):\n",
    "    categories = university_df[i]['category'].value_counts()\n",
    "    categories_df = categories.reset_index()\n",
    "    categories_df.columns = ['category', 'count']\n",
    "    \n",
    "    plt.barh(categories_df['category'].head(5), categories_df['count'].head(5))\n",
    "    plt.gca().invert_yaxis()\n",
    "    plt.xlabel('Count')\n",
    "    plt.title(f\"{university_names[i]}\")\n",
    "    plt.ylabel('Categories')\n",
    "    plt.show()"
   ]
  }
 ],
 "metadata": {
  "kernelspec": {
   "display_name": ".venv",
   "language": "python",
   "name": "python3"
  },
  "language_info": {
   "codemirror_mode": {
    "name": "ipython",
    "version": 3
   },
   "file_extension": ".py",
   "mimetype": "text/x-python",
   "name": "python",
   "nbconvert_exporter": "python",
   "pygments_lexer": "ipython3",
   "version": "3.11.4"
  }
 },
 "nbformat": 4,
 "nbformat_minor": 2
}
